{
 "cells": [
  {
   "cell_type": "markdown",
   "id": "88d06995-99fb-45f9-92d9-b14d9f30f47d",
   "metadata": {},
   "source": [
    "### Machine Learning Model Implementation\n",
    "In this section, we use the extracted textual and structural features to build and train a machine learning model. The model will learn to predict similarity or match between resumes and job descriptions based on these features.\n"
   ]
  },
  {
   "cell_type": "code",
   "execution_count": null,
   "id": "0ac677b8-1262-4981-8806-7e5c9c26578d",
   "metadata": {},
   "outputs": [],
   "source": [
    "from sklearn.preprocessing import StandardScaler"
   ]
  },
  {
   "cell_type": "code",
   "execution_count": null,
   "id": "ca604fda-21c6-48de-bd09-f586d1a0ece3",
   "metadata": {},
   "outputs": [],
   "source": [
    "scaler=StandardScaler()"
   ]
  },
  {
   "cell_type": "code",
   "execution_count": null,
   "id": "e120afb7-e1bd-43e5-b43f-f99fae85f900",
   "metadata": {},
   "outputs": [],
   "source": [
    "features_dff=scaler.fit_transform(features_df)"
   ]
  },
  {
   "cell_type": "code",
   "execution_count": null,
   "id": "e78cfccd-41fe-4fc3-a618-b63ab9f20a7d",
   "metadata": {},
   "outputs": [],
   "source": [
    "features_dff=pd.DataFrame(features_dff,columns=features_df.columns)"
   ]
  },
  {
   "cell_type": "code",
   "execution_count": null,
   "id": "4e26c034-9d80-4829-b0d8-167754985116",
   "metadata": {},
   "outputs": [],
   "source": [
    "features_dff[\"match_score\"]=df[\"match_score\"]"
   ]
  },
  {
   "cell_type": "code",
   "execution_count": null,
   "id": "20906d6f-c2fb-44b1-ae10-c41289093bbb",
   "metadata": {},
   "outputs": [],
   "source": [
    "features_df=features_dff"
   ]
  },
  {
   "cell_type": "code",
   "execution_count": null,
   "id": "e6f8273f-57c6-4f79-a8ae-9c9fa9f24aee",
   "metadata": {},
   "outputs": [],
   "source": [
    "from sklearn.model_selection import train_test_split"
   ]
  },
  {
   "cell_type": "code",
   "execution_count": null,
   "id": "54ce0bf6-f801-4280-bd01-2398da73474e",
   "metadata": {},
   "outputs": [],
   "source": [
    "X=features_df.iloc[:,0:-1]"
   ]
  },
  {
   "cell_type": "code",
   "execution_count": null,
   "id": "e98a77cd-0193-4150-b5df-9c5fafa71eaa",
   "metadata": {},
   "outputs": [],
   "source": [
    "y=features_df.iloc[:,-1]"
   ]
  },
  {
   "cell_type": "code",
   "execution_count": null,
   "id": "b11dd7d7-69a8-4767-b819-d8724d36b899",
   "metadata": {},
   "outputs": [],
   "source": [
    "X_train, X_test, y_train, y_test = train_test_split(\n",
    "    X, y, test_size=0.33, random_state=42)"
   ]
  },
  {
   "cell_type": "markdown",
   "id": "4ca89682-4a77-4115-841f-86731f7801f9",
   "metadata": {},
   "source": [
    "### RIDGE REGRESSION "
   ]
  },
  {
   "cell_type": "code",
   "execution_count": null,
   "id": "53bc30e5-48d5-4ea3-99be-3a6f67da8e85",
   "metadata": {},
   "outputs": [],
   "source": [
    "from sklearn.linear_model import Ridge\n",
    "from sklearn.model_selection import GridSearchCV, KFold\n",
    "from sklearn.metrics import mean_absolute_error, confusion_matrix\n",
    "import numpy as np\n",
    "# parameter grid for alpha (regularization strength)\n",
    "param_grid = {'alpha': [0.001, 0.01, 0.1, 1.0, 10.0, 100.0]}\n",
    "\n",
    "\n",
    "cv = KFold(n_splits=5, shuffle=True, random_state=42)\n",
    "\n",
    "ridge = Ridge()\n",
    "grid = GridSearchCV(ridge, param_grid, scoring='neg_mean_absolute_error', cv=cv, n_jobs=-1, verbose=0, return_train_score=False)\n",
    "grid.fit(X_train, y_train)\n",
    "\n",
    "best_ridge = grid.best_estimator_\n",
    "print(\"Best alpha:\", grid.best_params_['alpha'])\n",
    "\n",
    "feature_cols = X_train.columns.tolist()\n",
    "\n",
    "y_pred_cont = best_ridge.predict(X_test)\n",
    "y_pred_round = np.clip(np.round(y_pred_cont), int(np.min(y_train)), int(np.max(y_train))).astype(int)\n",
    "\n",
    "print(\"Ridge Test MAE:\", mean_absolute_error(y_test, y_pred_round))\n",
    "print(\"Confusion Matrix:\\n\", confusion_matrix(y_test, y_pred_round))\n",
    "\n",
    "\n",
    "acc = accuracy_score(y_test, y_pred_round)\n",
    "print(\"Ridge Test Accuracy:\", acc)"
   ]
  },
  {
   "cell_type": "markdown",
   "id": "af0292a3-d19f-43ba-bb3c-aaa13c8ddeb3",
   "metadata": {},
   "source": [
    "###  ORDINAL LOGISTIC REGRESSION "
   ]
  },
  {
   "cell_type": "code",
   "execution_count": null,
   "id": "2db46468-0501-434a-ba31-9d48cc559c93",
   "metadata": {},
   "outputs": [],
   "source": [
    "from mord import LogisticIT\n",
    "\n",
    "param_grid = {'alpha': [0.0001, 0.001, 0.01, 0.1, 1.0, 10.0]}\n",
    "\n",
    "cv = KFold(n_splits=5, shuffle=True, random_state=42)\n",
    "\n",
    "# base estimator\n",
    "ord_log = LogisticIT()\n",
    "\n",
    "grid = GridSearchCV(\n",
    "    estimator=ord_log,\n",
    "    param_grid=param_grid,\n",
    "    scoring='neg_mean_absolute_error',\n",
    "    cv=cv,\n",
    "    n_jobs=-1,\n",
    "    verbose=0,\n",
    "    return_train_score=False\n",
    ")\n",
    "\n",
    "grid.fit(X_train, y_train)\n",
    "\n",
    "best_ord = grid.best_estimator_\n",
    "print(\"Best alpha:\", grid.best_params_['alpha'])\n",
    "\n",
    "\n",
    "y_pred = best_ord.predict(X_test)\n",
    "\n",
    "print(\"Ordinal Logistic Test MAE:\", mean_absolute_error(y_test, y_pred))\n",
    "print(\"Confusion Matrix:\\n\", confusion_matrix(y_test, y_pred))\n",
    "\n",
    "feature_cols = X_train.columns.tolist()\n",
    "acc = accuracy_score(y_test, y_pred)\n",
    "print(\"logistic Test Accuracy:\", acc)\n"
   ]
  },
  {
   "cell_type": "markdown",
   "id": "81525c25-000e-4571-bfcd-9e94ab6c5816",
   "metadata": {},
   "source": [
    "### Support Vector Regression (SVR) Model"
   ]
  },
  {
   "cell_type": "code",
   "execution_count": null,
   "id": "51ebb945-d36a-4768-97d7-366fee6b841f",
   "metadata": {},
   "outputs": [],
   "source": [
    "from sklearn.svm import SVR\n",
    "\n",
    "param_grid = {\n",
    "    'kernel': ['rbf', 'linear'],\n",
    "    'C': [1, 10, 100],\n",
    "    'epsilon': [0.01, 0.1, 0.5],\n",
    "    'gamma': ['scale','auto']\n",
    "}\n",
    "\n",
    "cv = KFold(n_splits=5, shuffle=True, random_state=42)\n",
    "svr = SVR()\n",
    "grid = GridSearchCV(svr, param_grid, scoring='neg_mean_absolute_error', cv=cv, n_jobs=-1, verbose=0)\n",
    "grid.fit(X_train, y_train)\n",
    "\n",
    "best_svr = grid.best_estimator_\n",
    "print(\"Best params:\", grid.best_params_)\n",
    "\n",
    "y_pred_cont = best_svr.predict(X_test)\n",
    "y_pred_round = np.clip(np.round(y_pred_cont), 1, 5).astype(int)\n",
    "\n",
    "print(\"SVR Test MAE:\", mean_absolute_error(y_test, y_pred_round))\n",
    "print(\"Confusion Matrix:\\n\", confusion_matrix(y_test, y_pred_round))\n",
    "\n",
    "feature_cols = X_train.columns.tolist()\n",
    "\n",
    "acc = accuracy_score(y_test, y_pred_round)\n",
    "print(\"SVR Test Accuracy:\", acc)"
   ]
  },
  {
   "cell_type": "markdown",
   "id": "b1b39611-c582-4aed-9cea-111c8eae2f55",
   "metadata": {},
   "source": [
    "### XGBOOST"
   ]
  },
  {
   "cell_type": "code",
   "execution_count": null,
   "id": "b2abf43f-8391-442a-98d3-d17eaf3a97c7",
   "metadata": {},
   "outputs": [],
   "source": [
    "from xgboost import XGBRegressor\n",
    "param_grid = {\n",
    "    'n_estimators': [100, 300],\n",
    "    'max_depth': [3, 6],\n",
    "    'learning_rate': [0.01, 0.1],\n",
    "    'reg_lambda': [0, 1],   # L2 regularization\n",
    "    'reg_alpha': [0, 0.1]   # L1 regularization\n",
    "}\n",
    "\n",
    "cv = KFold(n_splits=5, shuffle=True, random_state=42)\n",
    "\n",
    "xgb = XGBRegressor(objective='reg:squarederror', random_state=42, n_jobs=-1, verbosity=0)\n",
    "\n",
    "grid = GridSearchCV(\n",
    "    estimator=xgb,\n",
    "    param_grid=param_grid,\n",
    "    scoring='neg_mean_absolute_error',\n",
    "    cv=cv,\n",
    "    n_jobs=-1,\n",
    "    verbose=0,\n",
    "    return_train_score=False\n",
    ")\n",
    "\n",
    "grid.fit(X_train, y_train)\n",
    "\n",
    "best_xgb = grid.best_estimator_\n",
    "print(\"Best params:\", grid.best_params_)\n",
    "\n",
    "\n",
    "y_pred_cont = best_xgb.predict(X_test)\n",
    "y_pred_round = np.clip(np.round(y_pred_cont),\n",
    "                       int(np.min(y_train)),\n",
    "                       int(np.max(y_train))).astype(int)\n",
    "\n",
    "print(\"XGBoost Test MAE:\", mean_absolute_error(y_test, y_pred_round))\n",
    "print(\"Confusion Matrix:\\n\", confusion_matrix(y_test, y_pred_round))\n",
    "\n",
    "feature_cols = X_train.columns.tolist()\n",
    "acc = accuracy_score(y_test, y_pred_round)\n",
    "print(\"XGBoost Test Accuracy:\", acc)\n"
   ]
  }
 ],
 "metadata": {
  "kernelspec": {
   "display_name": "Python 3 (ipykernel)",
   "language": "python",
   "name": "python3"
  },
  "language_info": {
   "codemirror_mode": {
    "name": "ipython",
    "version": 3
   },
   "file_extension": ".py",
   "mimetype": "text/x-python",
   "name": "python",
   "nbconvert_exporter": "python",
   "pygments_lexer": "ipython3",
   "version": "3.13.6"
  }
 },
 "nbformat": 4,
 "nbformat_minor": 5
}
